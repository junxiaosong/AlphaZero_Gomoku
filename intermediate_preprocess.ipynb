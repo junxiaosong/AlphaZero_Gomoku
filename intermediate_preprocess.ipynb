{
 "cells": [
  {
   "cell_type": "code",
   "execution_count": 9,
   "metadata": {
    "scrolled": false
   },
   "outputs": [
    {
     "output_type": "stream",
     "name": "stdout",
     "text": [
      "2999\n"
     ]
    }
   ],
   "source": [
    "import matplotlib.pyplot as plt\n",
    "import numpy as np\n",
    "import pandas as pd\n",
    "\n",
    "def preprocess(intermediate_result_file, new_file):\n",
    "    new_lines = []\n",
    "    with open(intermediate_result_file,'r') as f:\n",
    "        for line in f:\n",
    "            if \"episode_len\" not in line and \"lr_multiplier\" not in line:\n",
    "                continue\n",
    "            \n",
    "            if \"episode_len\" in line:\n",
    "                new_line = line.strip()\n",
    "            elif new_line:\n",
    "                new_line += ', '\n",
    "                new_line += line\n",
    "                new_lines.append(new_line)\n",
    "                new_line = ''\n",
    "    print(len(new_lines))\n",
    "    with open(new_file,'w') as f:\n",
    "        f.writelines(new_lines)\n",
    "    \n",
    "\n",
    "preprocess('output/res30_l+_console.txt', \"output/res30_l+_intermediate_result_tmp.txt\")"
   ]
  },
  {
   "cell_type": "code",
   "execution_count": null,
   "metadata": {},
   "outputs": [],
   "source": []
  }
 ],
 "metadata": {
  "interpreter": {
   "hash": "57baa5815c940fdaff4d14510622de9616cae602444507ba5d0b6727c008cbd6"
  },
  "kernelspec": {
   "name": "python3",
   "display_name": "Python 3.7.5 64-bit"
  },
  "language_info": {
   "codemirror_mode": {
    "name": "ipython",
    "version": 3
   },
   "file_extension": ".py",
   "mimetype": "text/x-python",
   "name": "python",
   "nbconvert_exporter": "python",
   "pygments_lexer": "ipython3",
   "version": "3.7.5"
  },
  "metadata": {
   "interpreter": {
    "hash": "57baa5815c940fdaff4d14510622de9616cae602444507ba5d0b6727c008cbd6"
   }
  }
 },
 "nbformat": 4,
 "nbformat_minor": 2
}